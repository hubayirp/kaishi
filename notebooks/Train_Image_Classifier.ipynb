{
 "cells": [
  {
   "cell_type": "code",
   "execution_count": 1,
   "metadata": {},
   "outputs": [],
   "source": [
    "import torch\n",
    "import torch.nn as nn\n",
    "import torch.nn.functional as F\n",
    "import torch.optim as optim\n",
    "import torchvision.transforms as transforms\n",
    "import torchvision.models as models\n",
    "import numpy as np\n",
    "from tqdm import tqdm\n",
    "from torch_lr_finder import LRFinder"
   ]
  },
  {
   "cell_type": "code",
   "execution_count": null,
   "metadata": {},
   "outputs": [],
   "source": [
    "model = models.vgg16(pretrained=False)\n",
    "n_classes = 6\n",
    "n_inputs = model.classifier[-1].in_features\n",
    "model.classifier[6] = nn.Sequential(nn.Linear(n_inputs, 256),\n",
    "                                    nn.ReLU(),\n",
    "                                    nn.Dropout(0.15),\n",
    "                                    nn.Linear(256, n_classes),\n",
    "                                    nn.Sigmoid())"
   ]
  },
  {
   "cell_type": "code",
   "execution_count": 2,
   "metadata": {},
   "outputs": [],
   "source": [
    "model = models.resnet18(pretrained=False)\n",
    "n_classes = 6\n",
    "n_inputs = model.fc.in_features\n",
    "#for param in model.parameters():  # Freeze feature extractor\n",
    "#    param.requires_grad = False\n",
    "model.fc = nn.Sequential(nn.Linear(n_inputs, 64),\n",
    "                         nn.ReLU(),\n",
    "                         nn.Dropout(0.15),\n",
    "                         nn.Linear(64, n_classes),\n",
    "                         nn.Sigmoid())"
   ]
  },
  {
   "cell_type": "code",
   "execution_count": 3,
   "metadata": {},
   "outputs": [],
   "source": [
    "from kaishi.image.dataset import ImageDataset\n",
    "imd = ImageDataset('/home/mwharton/Data/kaishi_image_train_dataset', recursive=True)\n",
    "imd.configure_pipeline([\"FilterInvalidFileExtensions\", \"FilterInvalidImageHeaders\", \"FilterDuplicateFiles\"])\n",
    "imd.run_pipeline()"
   ]
  },
  {
   "cell_type": "code",
   "execution_count": 4,
   "metadata": {
    "scrolled": true
   },
   "outputs": [],
   "source": [
    "model = model.to('cuda')\n",
    "steps_per_epoch = 100\n",
    "data_generator = imd.train_generator(batch_size=16)"
   ]
  },
  {
   "cell_type": "code",
   "execution_count": 5,
   "metadata": {},
   "outputs": [],
   "source": [
    "criterion = nn.MSELoss()\n",
    "optimizer = optim.Adam(model.parameters(), lr=0.1e-4)  # Initialize with dummy LR until we find a better one\n",
    "n_epochs = 200"
   ]
  },
  {
   "cell_type": "code",
   "execution_count": 6,
   "metadata": {},
   "outputs": [],
   "source": [
    "def torch_generator():  # Generator that yields torch tensors for lr-finder\n",
    "    while True:\n",
    "        x, y = next(data_generator)\n",
    "        yield torch.cuda.FloatTensor(x), torch.cuda.FloatTensor(y)"
   ]
  },
  {
   "cell_type": "code",
   "execution_count": 7,
   "metadata": {},
   "outputs": [
    {
     "data": {
      "application/vnd.jupyter.widget-view+json": {
       "model_id": "3d691dba1a2546859277ead9f9c6c5d7",
       "version_major": 2,
       "version_minor": 0
      },
      "text/plain": [
       "HBox(children=(FloatProgress(value=0.0), HTML(value='')))"
      ]
     },
     "metadata": {},
     "output_type": "display_data"
    },
    {
     "name": "stdout",
     "output_type": "stream",
     "text": [
      "\n",
      "Learning rate search finished. See the graph with {finder_name}.plot()\n"
     ]
    },
    {
     "data": {
      "image/png": "[encoded data removed]",
      "text/plain": [
       "<Figure size 432x288 with 1 Axes>"
      ]
     },
     "metadata": {
      "needs_background": "light"
     },
     "output_type": "display_data"
    }
   ],
   "source": [
    "lr_finder = LRFinder(model, optimizer, criterion, device=\"cuda\")\n",
    "lr_finder.range_test(torch_generator(), end_lr=100, num_iter=100)\n",
    "lr_finder.plot()\n",
    "lr_finder.reset()"
   ]
  },
  {
   "cell_type": "code",
   "execution_count": 9,
   "metadata": {},
   "outputs": [],
   "source": [
    "optimizer = optim.Adam(model.parameters(), lr=10**-2)"
   ]
  },
  {
   "cell_type": "code",
   "execution_count": 10,
   "metadata": {},
   "outputs": [],
   "source": [
    "X_val, y_val = imd.generate_validation_data()"
   ]
  },
  {
   "cell_type": "code",
   "execution_count": 11,
   "metadata": {},
   "outputs": [],
   "source": [
    "minval = 9999"
   ]
  },
  {
   "cell_type": "code",
   "execution_count": null,
   "metadata": {
    "scrolled": false
   },
   "outputs": [],
   "source": [
    "for epoch in range(n_epochs):\n",
    "    print('Epoch %3d/%3d' % (epoch + 1, n_epochs))\n",
    "    running_loss = 0\n",
    "    lossct = 0\n",
    "    for step in tqdm(range(steps_per_epoch)):\n",
    "        optimizer.zero_grad()\n",
    "        for X, y in data_generator:\n",
    "            break\n",
    "        pred = model(torch.from_numpy(X).to(torch.float32).to('cuda'))\n",
    "        loss = criterion(pred, torch.from_numpy(y).to(torch.float32).to('cuda'))\n",
    "        loss.backward()\n",
    "        optimizer.step()\n",
    "\n",
    "        running_loss += loss.item()\n",
    "        lossct += 1\n",
    "    print('Loss for this epoch: ' + repr(running_loss / float(lossct)))\n",
    "    val_loss = 0\n",
    "    for i in range(10):\n",
    "        Xtmp = X_val[i*32:(i+1)*32]\n",
    "        ytmp = y_val[i*32:(i+1)*32]\n",
    "        val_pred = model(torch.from_numpy(Xtmp).to(torch.float32).to('cuda'))\n",
    "        val_loss += criterion(val_pred, torch.from_numpy(ytmp).to(torch.float32).to('cuda')).item()\n",
    "    print('Validation loss: ' + repr(val_loss / 10.0))\n",
    "    if val_loss < minval:\n",
    "        minval = val_loss\n",
    "        print('Improved.')\n",
    "        torch.save(model.state_dict(), 'best_val.pth')"
   ]
  },
  {
   "cell_type": "code",
   "execution_count": 17,
   "metadata": {},
   "outputs": [
    {
     "data": {
      "text/plain": [
       "<All keys matched successfully>"
      ]
     },
     "execution_count": 17,
     "metadata": {},
     "output_type": "execute_result"
    }
   ],
   "source": [
    "model.load_state_dict(torch.load('best_val.pth'))"
   ]
  },
  {
   "cell_type": "code",
   "execution_count": 18,
   "metadata": {},
   "outputs": [],
   "source": [
    "import matplotlib.pyplot as plt"
   ]
  },
  {
   "cell_type": "code",
   "execution_count": 20,
   "metadata": {},
   "outputs": [],
   "source": [
    "#pred = model(torch.from_numpy(X_val[:32]).to(torch.float32)).detach().numpy()  # CPU\n",
    "pred = model(torch.from_numpy(X_val[:10]).to(torch.float32).to('cuda')).cpu().detach().numpy() # GPU"
   ]
  },
  {
   "cell_type": "code",
   "execution_count": null,
   "metadata": {
    "scrolled": false
   },
   "outputs": [],
   "source": [
    "for i in range(32):\n",
    "    plt.imshow(np.swapaxes(X_val[i], 0, 2))\n",
    "    plt.show()\n",
    "    print('Truth: ' + repr(y_val[i]))\n",
    "    print('Pred:  ' + repr(pred[i]))\n",
    "\n",
    "# CLASS LABELS: [DOCUMENT, RECTIFIED, ROTATED_RIGHT, ROTATED_LEFT, UPSIDE_DOWN, STRETCHING]"
   ]
  }
 ],
 "metadata": {
  "kernelspec": {
   "display_name": "Python 3",
   "language": "python",
   "name": "python3"
  },
  "language_info": {
   "codemirror_mode": {
    "name": "ipython",
    "version": 3
   },
   "file_extension": ".py",
   "mimetype": "text/x-python",
   "name": "python",
   "nbconvert_exporter": "python",
   "pygments_lexer": "ipython3",
   "version": "3.7.6"
  }
 },
 "nbformat": 4,
 "nbformat_minor": 2
}
